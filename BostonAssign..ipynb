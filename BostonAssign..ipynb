{
 "cells": [
  {
   "cell_type": "markdown",
   "metadata": {},
   "source": [
    "## Boston Housing Assignment\n",
    "\n",
    "In this assignment you'll be using linear regression to estimate the cost of house in boston, using a well known dataset.\n",
    "\n",
    "Goals:\n",
    "+  Measure the performance of the model I created using $R^{2}$ and MSE\n",
    "> Learn how to use sklearn.metrics.r2_score and sklearn.metrics.mean_squared_error\n",
    "+  Implement a new model using L2 regularization\n",
    "> Use sklearn.linear_model.Ridge or sklearn.linear_model.Lasso \n",
    "+  Get the best model you can by optimizing the regularization parameter.   "
   ]
  },
  {
   "cell_type": "code",
   "execution_count": 73,
   "metadata": {
    "collapsed": false
   },
   "outputs": [],
   "source": [
    "from sklearn import datasets\n",
    "import pandas as pd\n",
    "from sklearn.preprocessing import StandardScaler\n",
    "from sklearn.cross_validation import train_test_split\n",
    "from sklearn.metrics import mean_squared_error\n",
    "from sklearn.metrics import r2_score\n",
    "from sklearn.linear_model import LinearRegression"
   ]
  },
  {
   "cell_type": "code",
   "execution_count": 74,
   "metadata": {
    "collapsed": false
   },
   "outputs": [
    {
     "name": "stdout",
     "output_type": "stream",
     "text": [
      "Boston House Prices dataset\n",
      "\n",
      "Notes\n",
      "------\n",
      "Data Set Characteristics:  \n",
      "\n",
      "    :Number of Instances: 506 \n",
      "\n",
      "    :Number of Attributes: 13 numeric/categorical predictive\n",
      "    \n",
      "    :Median Value (attribute 14) is usually the target\n",
      "\n",
      "    :Attribute Information (in order):\n",
      "        - CRIM     per capita crime rate by town\n",
      "        - ZN       proportion of residential land zoned for lots over 25,000 sq.ft.\n",
      "        - INDUS    proportion of non-retail business acres per town\n",
      "        - CHAS     Charles River dummy variable (= 1 if tract bounds river; 0 otherwise)\n",
      "        - NOX      nitric oxides concentration (parts per 10 million)\n",
      "        - RM       average number of rooms per dwelling\n",
      "        - AGE      proportion of owner-occupied units built prior to 1940\n",
      "        - DIS      weighted distances to five Boston employment centres\n",
      "        - RAD      index of accessibility to radial highways\n",
      "        - TAX      full-value property-tax rate per $10,000\n",
      "        - PTRATIO  pupil-teacher ratio by town\n",
      "        - B        1000(Bk - 0.63)^2 where Bk is the proportion of blacks by town\n",
      "        - LSTAT    % lower status of the population\n",
      "        - MEDV     Median value of owner-occupied homes in $1000's\n",
      "\n",
      "    :Missing Attribute Values: None\n",
      "\n",
      "    :Creator: Harrison, D. and Rubinfeld, D.L.\n",
      "\n",
      "This is a copy of UCI ML housing dataset.\n",
      "http://archive.ics.uci.edu/ml/datasets/Housing\n",
      "\n",
      "\n",
      "This dataset was taken from the StatLib library which is maintained at Carnegie Mellon University.\n",
      "\n",
      "The Boston house-price data of Harrison, D. and Rubinfeld, D.L. 'Hedonic\n",
      "prices and the demand for clean air', J. Environ. Economics & Management,\n",
      "vol.5, 81-102, 1978.   Used in Belsley, Kuh & Welsch, 'Regression diagnostics\n",
      "...', Wiley, 1980.   N.B. Various transformations are used in the table on\n",
      "pages 244-261 of the latter.\n",
      "\n",
      "The Boston house-price data has been used in many machine learning papers that address regression\n",
      "problems.   \n",
      "     \n",
      "**References**\n",
      "\n",
      "   - Belsley, Kuh & Welsch, 'Regression diagnostics: Identifying Influential Data and Sources of Collinearity', Wiley, 1980. 244-261.\n",
      "   - Quinlan,R. (1993). Combining Instance-Based and Model-Based Learning. In Proceedings on the Tenth International Conference of Machine Learning, 236-243, University of Massachusetts, Amherst. Morgan Kaufmann.\n",
      "   - many more! (see http://archive.ics.uci.edu/ml/datasets/Housing)\n",
      "\n"
     ]
    }
   ],
   "source": [
    "bean = datasets.load_boston()\n",
    "print bean.DESCR"
   ]
  },
  {
   "cell_type": "code",
   "execution_count": 75,
   "metadata": {
    "collapsed": false
   },
   "outputs": [],
   "source": [
    "def load_boston():\n",
    "    scaler = StandardScaler()\n",
    "    boston = datasets.load_boston()\n",
    "    X=boston.data\n",
    "    y=boston.target\n",
    "    X = scaler.fit_transform(X)\n",
    "    return train_test_split(X,y)\n",
    "    "
   ]
  },
  {
   "cell_type": "code",
   "execution_count": 76,
   "metadata": {
    "collapsed": false
   },
   "outputs": [],
   "source": [
    "X_train, X_test, y_train, y_test = load_boston()"
   ]
  },
  {
   "cell_type": "code",
   "execution_count": 77,
   "metadata": {
    "collapsed": false
   },
   "outputs": [
    {
     "data": {
      "text/plain": [
       "(379L, 13L)"
      ]
     },
     "execution_count": 77,
     "metadata": {},
     "output_type": "execute_result"
    }
   ],
   "source": [
    "X_train.shape"
   ]
  },
  {
   "cell_type": "markdown",
   "metadata": {},
   "source": [
    "### Fitting a Linear Regression\n",
    "\n",
    "It's as easy as instantiating a new regression object (line 1) and giving your regression object your training data\n",
    "(line 2) by calling .fit(independent variables, dependent variable)\n",
    "\n"
   ]
  },
  {
   "cell_type": "code",
   "execution_count": 78,
   "metadata": {
    "collapsed": false
   },
   "outputs": [
    {
     "data": {
      "text/plain": [
       "LinearRegression(copy_X=True, fit_intercept=True, normalize=False)"
      ]
     },
     "execution_count": 78,
     "metadata": {},
     "output_type": "execute_result"
    }
   ],
   "source": [
    "\n",
    "clf = LinearRegression()\n",
    "clf.fit(X_train, y_train)"
   ]
  },
  {
   "cell_type": "markdown",
   "metadata": {},
   "source": [
    "### Making a Prediction\n",
    "X_test is our holdout set of data.  We know the answer (y_test) but the computer does not.   \n",
    "\n",
    "Using the command below, I create a tuple for each observation, where I'm combining the real value (y_test) with\n",
    "the value our regressor predicts (clf.predict(X_test))\n",
    "\n",
    "Use a similiar format to get your r2 and mse metrics working.  Using the [scikit learn api](http://scikit-learn.org/stable/modules/model_evaluation.html) if you need help!"
   ]
  },
  {
   "cell_type": "code",
   "execution_count": 79,
   "metadata": {
    "collapsed": false
   },
   "outputs": [
    {
     "data": {
      "text/plain": [
       "[(18.600000000000001, 20.170731100221747),\n",
       " (19.800000000000001, 21.938157123319456),\n",
       " (19.100000000000001, 16.51627876657459),\n",
       " (21.399999999999999, 19.930807556998829),\n",
       " (16.5, 11.445258747440899),\n",
       " (13.800000000000001, 12.083184070024229),\n",
       " (10.199999999999999, 16.950684065457001),\n",
       " (12.5, 18.838078387058662),\n",
       " (7.5, 13.413545183478162),\n",
       " (5.0, 7.6500333833425955),\n",
       " (27.5, 31.437242280530793),\n",
       " (17.300000000000001, 16.036029904229004),\n",
       " (44.799999999999997, 38.09818285494643),\n",
       " (20.699999999999999, 25.375220850726954),\n",
       " (29.600000000000001, 24.727613526245126),\n",
       " (36.399999999999999, 33.233094185353828),\n",
       " (23.0, 19.897644209517537),\n",
       " (21.399999999999999, 21.7936324933723),\n",
       " (28.399999999999999, 30.983497929263152),\n",
       " (11.699999999999999, 14.76014271690094),\n",
       " (28.699999999999999, 28.024318044376802),\n",
       " (16.100000000000001, 21.343936834098212),\n",
       " (21.399999999999999, 25.078171372149679),\n",
       " (18.800000000000001, 20.943829820848062),\n",
       " (22.800000000000001, 28.589904398427361),\n",
       " (21.899999999999999, 24.450244152944826),\n",
       " (14.9, 16.807205389594312),\n",
       " (33.200000000000003, 32.465681736373703),\n",
       " (10.4, 17.416091570921715),\n",
       " (20.300000000000001, 19.291211904763426),\n",
       " (19.300000000000001, 21.634595695075731),\n",
       " (7.4000000000000004, 6.1379097748717619),\n",
       " (14.5, 13.868344022204422),\n",
       " (19.600000000000001, 22.388154795625642),\n",
       " (32.0, 34.03630655306425),\n",
       " (13.300000000000001, 13.825192101025145),\n",
       " (19.899999999999999, 18.303897725768749),\n",
       " (16.399999999999999, 18.514192195498886),\n",
       " (14.300000000000001, 16.698319872107568),\n",
       " (19.399999999999999, 19.978097566126074),\n",
       " (16.5, 22.326583213288231),\n",
       " (30.699999999999999, 31.374933916433029),\n",
       " (16.100000000000001, 18.028580997406877),\n",
       " (17.5, 18.6636389190868),\n",
       " (17.399999999999999, 17.674213360026592),\n",
       " (19.399999999999999, 17.191227029953751),\n",
       " (24.0, 25.247726171938037),\n",
       " (19.899999999999999, 19.382491796055902),\n",
       " (25.0, 21.976794633739569),\n",
       " (37.299999999999997, 34.905346955484802),\n",
       " (5.0, 10.494279899798507),\n",
       " (31.600000000000001, 32.222861305597704),\n",
       " (25.0, 22.285432146074371),\n",
       " (19.199999999999999, 19.874368442823556),\n",
       " (20.0, 16.445340777664057),\n",
       " (9.6999999999999993, 9.8361504158608071),\n",
       " (20.0, 18.0173703915925),\n",
       " (29.0, 31.030168958983616),\n",
       " (21.100000000000001, 20.517870824341976),\n",
       " (36.0, 36.504991515887127),\n",
       " (6.2999999999999998, 10.870169139473134),\n",
       " (17.199999999999999, 14.827019415331849),\n",
       " (17.100000000000001, 16.937135925662986),\n",
       " (14.6, 18.951696800433929),\n",
       " (24.100000000000001, 30.062195685581997),\n",
       " (18.699999999999999, 17.715527668343967),\n",
       " (50.0, 25.161739550846246),\n",
       " (10.199999999999999, 6.5903590820739932),\n",
       " (50.0, 40.839600427328719),\n",
       " (14.4, 9.1103074760771534),\n",
       " (15.4, 14.750348697567908),\n",
       " (22.0, 21.556785616977301),\n",
       " (10.800000000000001, 11.493823731535819),\n",
       " (18.800000000000001, 20.156367566594536),\n",
       " (27.5, 13.991594946471251),\n",
       " (44.0, 37.962537153315374),\n",
       " (13.800000000000001, 1.2684883292543958),\n",
       " (48.299999999999997, 36.849481076203645),\n",
       " (23.100000000000001, 24.296933705344195),\n",
       " (7.0, 8.5349501816021025),\n",
       " (22.0, 27.863353067847907),\n",
       " (21.600000000000001, 24.95261436274772),\n",
       " (17.199999999999999, 13.577054336726871),\n",
       " (32.700000000000003, 30.544302541411732),\n",
       " (23.699999999999999, 27.530229178828431),\n",
       " (20.600000000000001, 18.948613295708007),\n",
       " (16.199999999999999, 20.52841416921877),\n",
       " (11.800000000000001, 12.601168030533852),\n",
       " (22.600000000000001, 26.752330498261887),\n",
       " (29.100000000000001, 30.713882323640842),\n",
       " (10.5, 12.980051431041694),\n",
       " (16.0, 18.28944344971422),\n",
       " (17.100000000000001, 20.432852895093752),\n",
       " (21.199999999999999, 21.260335708871242),\n",
       " (32.899999999999999, 31.417398819650952),\n",
       " (16.600000000000001, 15.464752597624688),\n",
       " (18.899999999999999, 21.382996307685421),\n",
       " (48.799999999999997, 40.88133106830152),\n",
       " (37.200000000000003, 33.064043415919073),\n",
       " (19.399999999999999, 26.20610232016217),\n",
       " (29.800000000000001, 25.045469600733114),\n",
       " (13.4, 16.268934888946177),\n",
       " (28.5, 33.960006978563669),\n",
       " (19.300000000000001, 21.030962486415874),\n",
       " (27.899999999999999, 32.408081654784951),\n",
       " (21.699999999999999, 23.185822581575287),\n",
       " (19.0, 14.066599782082342),\n",
       " (23.800000000000001, 25.373676414676748),\n",
       " (17.100000000000001, 19.246761620538475),\n",
       " (22.899999999999999, 20.75729921175407),\n",
       " (20.300000000000001, 22.055647799174178),\n",
       " (16.800000000000001, 20.595183950282308),\n",
       " (26.399999999999999, 29.10343318902013),\n",
       " (13.1, 14.42571260193634),\n",
       " (34.700000000000003, 30.455403158533635),\n",
       " (23.100000000000001, 24.832044670703073),\n",
       " (23.100000000000001, 20.719425207343313),\n",
       " (50.0, 40.885504402499336),\n",
       " (20.899999999999999, 22.26540268078115),\n",
       " (28.399999999999999, 28.965413778396325),\n",
       " (24.0, 30.33686250589912),\n",
       " (29.800000000000001, 32.984316586729236),\n",
       " (31.199999999999999, 28.902571572608331),\n",
       " (8.0999999999999996, 4.0639058303793938),\n",
       " (29.600000000000001, 24.971183811887059),\n",
       " (15.1, 16.816642050093773),\n",
       " (30.100000000000001, 35.032460242325868)]"
      ]
     },
     "execution_count": 79,
     "metadata": {},
     "output_type": "execute_result"
    }
   ],
   "source": [
    "zip (y_test, clf.predict(X_test))"
   ]
  },
  {
   "cell_type": "code",
   "execution_count": 80,
   "metadata": {
    "collapsed": false
   },
   "outputs": [
    {
     "name": "stdout",
     "output_type": "stream",
     "text": [
      "Boston House Prices dataset\n",
      "\n",
      "Notes\n",
      "------\n",
      "Data Set Characteristics:  \n",
      "\n",
      "    :Number of Instances: 506 \n",
      "\n",
      "    :Number of Attributes: 13 numeric/categorical predictive\n",
      "    \n",
      "    :Median Value (attribute 14) is usually the target\n",
      "\n",
      "    :Attribute Information (in order):\n",
      "        - CRIM     per capita crime rate by town\n",
      "        - ZN       proportion of residential land zoned for lots over 25,000 sq.ft.\n",
      "        - INDUS    proportion of non-retail business acres per town\n",
      "        - CHAS     Charles River dummy variable (= 1 if tract bounds river; 0 otherwise)\n",
      "        - NOX      nitric oxides concentration (parts per 10 million)\n",
      "        - RM       average number of rooms per dwelling\n",
      "        - AGE      proportion of owner-occupied units built prior to 1940\n",
      "        - DIS      weighted distances to five Boston employment centres\n",
      "        - RAD      index of accessibility to radial highways\n",
      "        - TAX      full-value property-tax rate per $10,000\n",
      "        - PTRATIO  pupil-teacher ratio by town\n",
      "        - B        1000(Bk - 0.63)^2 where Bk is the proportion of blacks by town\n",
      "        - LSTAT    % lower status of the population\n",
      "        - MEDV     Median value of owner-occupied homes in $1000's\n",
      "\n",
      "    :Missing Attribute Values: None\n",
      "\n",
      "    :Creator: Harrison, D. and Rubinfeld, D.L.\n",
      "\n",
      "This is a copy of UCI ML housing dataset.\n",
      "http://archive.ics.uci.edu/ml/datasets/Housing\n",
      "\n",
      "\n",
      "This dataset was taken from the StatLib library which is maintained at Carnegie Mellon University.\n",
      "\n",
      "The Boston house-price data of Harrison, D. and Rubinfeld, D.L. 'Hedonic\n",
      "prices and the demand for clean air', J. Environ. Economics & Management,\n",
      "vol.5, 81-102, 1978.   Used in Belsley, Kuh & Welsch, 'Regression diagnostics\n",
      "...', Wiley, 1980.   N.B. Various transformations are used in the table on\n",
      "pages 244-261 of the latter.\n",
      "\n",
      "The Boston house-price data has been used in many machine learning papers that address regression\n",
      "problems.   \n",
      "     \n",
      "**References**\n",
      "\n",
      "   - Belsley, Kuh & Welsch, 'Regression diagnostics: Identifying Influential Data and Sources of Collinearity', Wiley, 1980. 244-261.\n",
      "   - Quinlan,R. (1993). Combining Instance-Based and Model-Based Learning. In Proceedings on the Tenth International Conference of Machine Learning, 236-243, University of Massachusetts, Amherst. Morgan Kaufmann.\n",
      "   - many more! (see http://archive.ics.uci.edu/ml/datasets/Housing)\n",
      "\n"
     ]
    }
   ],
   "source": [
    "from sklearn.datasets import *\n",
    "data = load_boston()\n",
    "print data.DESCR"
   ]
  },
  {
   "cell_type": "code",
   "execution_count": 81,
   "metadata": {
    "collapsed": false
   },
   "outputs": [
    {
     "name": "stdout",
     "output_type": "stream",
     "text": [
      "{'normalize': False, 'intercept_': 36.491103280361422, 'residues_': 11080.276284149875, 'fit_intercept': True, 'coef_': array([ -1.07170557e-01,   4.63952195e-02,   2.08602395e-02,\n",
      "         2.68856140e+00,  -1.77957587e+01,   3.80475246e+00,\n",
      "         7.51061703e-04,  -1.47575880e+00,   3.05655038e-01,\n",
      "        -1.23293463e-02,  -9.53463555e-01,   9.39251272e-03,\n",
      "        -5.25466633e-01]), 'copy_X': True, 'rank_': 13, 'singular_': array([  3.94958310e+03,   1.77662274e+03,   6.42864253e+02,\n",
      "         3.66980826e+02,   1.59116390e+02,   1.18692322e+02,\n",
      "         9.01718207e+01,   6.93889529e+01,   4.06572735e+01,\n",
      "         2.44223087e+01,   1.13502686e+01,   5.50918200e+00,\n",
      "         1.24178413e+00])}\n",
      "0.740607742865\n"
     ]
    }
   ],
   "source": [
    "from sklearn.datasets import *\n",
    "from sklearn.linear_model import LinearRegression\n",
    "\n",
    "data = load_boston()\n",
    "model = LinearRegression()\n",
    "model.fit(data.data, data.target)\n",
    "print model.__dict__\n",
    "print model.score(data.data, data.target)"
   ]
  },
  {
   "cell_type": "markdown",
   "metadata": {},
   "source": [
    "## Estimating the performance of unseen data, , we split the data into two sets:\n",
    "## The training set and the test set using r2 method"
   ]
  },
  {
   "cell_type": "code",
   "execution_count": 82,
   "metadata": {
    "collapsed": false
   },
   "outputs": [
    {
     "name": "stdout",
     "output_type": "stream",
     "text": [
      "Train R2 0.707253\n",
      "Test R2 0.764058\n"
     ]
    }
   ],
   "source": [
    "from sklearn.datasets import *\n",
    "from sklearn.cross_validation import train_test_split\n",
    "data = load_boston()\n",
    "\n",
    "X_train, X_test, y_train, y_test = train_test_split(data.data, data.target, train_size=0.5)\n",
    "model = LinearRegression()\n",
    "model.fit(X_train, y_train)\n",
    "print \"Train R2 %f\"%model.score(X_train, y_train)\n",
    "print \"Test R2 %f\"%model.score(X_test, y_test)"
   ]
  },
  {
   "cell_type": "code",
   "execution_count": 84,
   "metadata": {
    "collapsed": false
   },
   "outputs": [
    {
     "name": "stdout",
     "output_type": "stream",
     "text": [
      "Populating the interactive namespace from numpy and matplotlib\n"
     ]
    }
   ],
   "source": [
    "from sklearn import datasets\n",
    "import pandas as pd\n",
    "%pylab inline\n",
    "from sklearn.preprocessing import StandardScaler\n",
    "from sklearn.cross_validation import train_test_split\n",
    "from sklearn.metrics import mean_squared_error\n",
    "from sklearn.metrics import r2_score\n",
    "from sklearn.linear_model import LinearRegression\n",
    "from sklearn.linear_model import Lasso\n",
    "import numpy as np\n",
    "from matplotlib import pyplot as plt\n",
    "from IPython.display import display\n",
    "from sklearn.neighbors import KNeighborsRegressor\n",
    "\n",
    "%matplotlib inline"
   ]
  },
  {
   "cell_type": "code",
   "execution_count": 85,
   "metadata": {
    "collapsed": false
   },
   "outputs": [
    {
     "data": {
      "text/plain": [
       "(404L, 13L)"
      ]
     },
     "execution_count": 85,
     "metadata": {},
     "output_type": "execute_result"
    }
   ],
   "source": [
    "train_data, test_data, train_target, test_target = \\\n",
    "        train_test_split(boston.data, boston.target, train_size=.8)\n",
    "train_data.shape"
   ]
  },
  {
   "cell_type": "code",
   "execution_count": 86,
   "metadata": {
    "collapsed": false
   },
   "outputs": [
    {
     "name": "stdout",
     "output_type": "stream",
     "text": [
      "(506L, 13L)\n",
      "(506L,)\n"
     ]
    }
   ],
   "source": [
    "from sklearn import datasets\n",
    "boston = datasets.load_boston()\n",
    "X = boston.data\n",
    "y = boston.target\n",
    "\n",
    "print X.shape\n",
    "print y.shape"
   ]
  },
  {
   "cell_type": "code",
   "execution_count": 87,
   "metadata": {
    "collapsed": false
   },
   "outputs": [],
   "source": [
    "from sklearn import linear_model\n",
    "linreg = linear_model.LinearRegression()"
   ]
  },
  {
   "cell_type": "code",
   "execution_count": 88,
   "metadata": {
    "collapsed": false
   },
   "outputs": [],
   "source": [
    "_=linreg.fit(train_data, train_target)"
   ]
  },
  {
   "cell_type": "markdown",
   "metadata": {},
   "source": [
    "##MSE performance measure"
   ]
  },
  {
   "cell_type": "code",
   "execution_count": 89,
   "metadata": {
    "collapsed": false
   },
   "outputs": [
    {
     "name": "stdout",
     "output_type": "stream",
     "text": [
      "MSE is 20.985691564\n"
     ]
    }
   ],
   "source": [
    "from sklearn import metrics\n",
    "mse = metrics.mean_squared_error(test_target, linreg.predict(test_data)) \n",
    "print(\"MSE is {}\".format(mse))"
   ]
  },
  {
   "cell_type": "markdown",
   "metadata": {},
   "source": [
    "##L2 regularization using Lasso method"
   ]
  },
  {
   "cell_type": "code",
   "execution_count": 90,
   "metadata": {
    "collapsed": false
   },
   "outputs": [
    {
     "data": {
      "text/plain": [
       "Lasso(alpha=1.0, copy_X=True, fit_intercept=True, max_iter=1000,\n",
       "   normalize=True, positive=False, precompute='auto', tol=0.0001,\n",
       "   warm_start=False)"
      ]
     },
     "execution_count": 90,
     "metadata": {},
     "output_type": "execute_result"
    }
   ],
   "source": [
    "lasso = linear_model.Lasso()\n",
    "lasso = linear_model.Lasso(alpha=0.1)\n",
    "lasso = linear_model.Lasso(normalize=True, alpha=1.0)\n",
    "lasso.fit(train_data, train_target)"
   ]
  },
  {
   "cell_type": "code",
   "execution_count": 91,
   "metadata": {
    "collapsed": false
   },
   "outputs": [],
   "source": [
    "lasso.fit(train_data, train_target)\n",
    "r2_lasso_train = lasso.score(train_data, train_target)\n",
    "r2_lasso = lasso.score(test_data, test_target)"
   ]
  },
  {
   "cell_type": "code",
   "execution_count": 92,
   "metadata": {
    "collapsed": false
   },
   "outputs": [
    {
     "name": "stdout",
     "output_type": "stream",
     "text": [
      "      | TRAINING | TESTING\n",
      "------+----------+---------\n",
      "Lasso | 0.00%   | -0.73%\n",
      "---------------------------\n",
      "\n"
     ]
    }
   ],
   "source": [
    "results = \"\"\"\\\n",
    "      | TRAINING | TESTING\n",
    "------+----------+---------\n",
    "Lasso | {:.2%}   | {:.2%}\n",
    "---------------------------\n",
    "\"\"\".format(r2_lasso_train, r2_lasso)\n",
    "print(results)"
   ]
  }
 ],
 "metadata": {
  "kernelspec": {
   "display_name": "Python 2",
   "language": "python",
   "name": "python2"
  },
  "language_info": {
   "codemirror_mode": {
    "name": "ipython",
    "version": 2
   },
   "file_extension": ".py",
   "mimetype": "text/x-python",
   "name": "python",
   "nbconvert_exporter": "python",
   "pygments_lexer": "ipython2",
   "version": "2.7.9"
  }
 },
 "nbformat": 4,
 "nbformat_minor": 0
}
